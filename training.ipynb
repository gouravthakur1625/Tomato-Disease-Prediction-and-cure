{
 "cells": [
  {
   "cell_type": "code",
   "execution_count": 1,
   "id": "38c6d466",
   "metadata": {},
   "outputs": [],
   "source": [
    "from tensorflow.compat.v1 import ConfigProto\n",
    "from tensorflow.compat.v1 import InteractiveSession\n",
    "\n",
    "config = ConfigProto()\n",
    "config.gpu_options.allow_growth = True\n",
    "session = InteractiveSession(config=config)\n",
    "\n",
    "from tensorflow.keras.models import Sequential\n",
    "from tensorflow.keras.layers import Conv2D\n",
    "from tensorflow.keras.layers import MaxPooling2D\n",
    "from tensorflow.keras.layers import Flatten\n",
    "from tensorflow.keras.layers import Dense\n",
    "from tensorflow.keras.preprocessing.image import ImageDataGenerator\n",
    "import tensorflow as tf\n",
    "tf.compat.v1.disable_eager_execution()\n",
    "import matplotlib.pyplot as plt\n",
    "import numpy as np\n",
    "import os\n"
   ]
  },
  {
   "cell_type": "code",
   "execution_count": 2,
   "id": "8353de85",
   "metadata": {},
   "outputs": [],
   "source": [
    "#basic cnn\n",
    "# Initialising the CNN\n",
    "classifier = Sequential()\n",
    "\n",
    "# Step 1 - Convolution\n",
    "classifier.add(Conv2D(32, (3, 3), input_shape = (128, 128, 3), activation = 'relu'))\n",
    "\n",
    "# Step 2 - Pooling\n",
    "classifier.add(MaxPooling2D(pool_size = (2, 2)))\n",
    "\n",
    "# Adding a second convolutional layer\n",
    "classifier.add(Conv2D(32, (3, 3), activation = 'relu'))\n",
    "classifier.add(MaxPooling2D(pool_size = (2, 2)))\n",
    "\n",
    "# Step 3 - Flattening\n",
    "classifier.add(Flatten())\n",
    "\n",
    "# Step 4 - Full connection\n",
    "classifier.add(Dense(units = 128, activation = 'relu'))\n",
    "classifier.add(Dense(units = 10, activation = 'sigmoid'))\n",
    "\n",
    "# Compiling the CNN\n",
    "classifier.compile(optimizer = 'adam', loss = 'categorical_crossentropy', metrics = ['accuracy'])"
   ]
  },
  {
   "cell_type": "code",
   "execution_count": 3,
   "id": "e9500a8c",
   "metadata": {},
   "outputs": [
    {
     "name": "stdout",
     "output_type": "stream",
     "text": [
      "Found 143 images belonging to 10 classes.\n",
      "Found 52 images belonging to 10 classes.\n"
     ]
    }
   ],
   "source": [
    "train_datagen = ImageDataGenerator(rescale = 1./255, shear_range = 0.2, zoom_range = 0.2, horizontal_flip = True)\n",
    "\n",
    "test_datagen = ImageDataGenerator(rescale = 1./255)\n",
    "\n",
    "training_set = train_datagen.flow_from_directory('Dataset/train', # relative path from working directoy\n",
    "                                                 target_size = (128, 128),\n",
    "                                                 batch_size = 6, class_mode = 'categorical')\n",
    "valid_set = test_datagen.flow_from_directory('Dataset/val', # relative path from working directoy\n",
    "                                             target_size = (128, 128), \n",
    "                                        batch_size = 3, class_mode = 'categorical')"
   ]
  },
  {
   "cell_type": "code",
   "execution_count": 4,
   "id": "de9cf2f4",
   "metadata": {},
   "outputs": [
    {
     "name": "stdout",
     "output_type": "stream",
     "text": [
      "{'Tomato - Bacterial_spot': 0, 'Tomato - Early_blight': 1, 'Tomato - Healthy': 2, 'Tomato - Late_blight': 3, 'Tomato - Leaf_Mold': 4, 'Tomato - Septoria_leaf_spot': 5, 'Tomato - Target_Spot': 6, 'Tomato - Tomato_Yellow_Leaf_Curl_Virus': 7, 'Tomato - Tomato_mosaic_virus': 8, 'Tomato - Two-spotted_spider_mite': 9}\n"
     ]
    }
   ],
   "source": [
    "labels = (training_set.class_indices)\n",
    "print(labels)"
   ]
  },
  {
   "cell_type": "code",
   "execution_count": 5,
   "id": "ff643c45",
   "metadata": {},
   "outputs": [
    {
     "name": "stdout",
     "output_type": "stream",
     "text": [
      "Epoch 1/50\n"
     ]
    },
    {
     "name": "stderr",
     "output_type": "stream",
     "text": [
      "C:\\Users\\goura\\AppData\\Local\\Temp\\ipykernel_3032\\3733182544.py:1: UserWarning: `model.fit_generator` is deprecated and will be removed in a future version. Please use `Model.fit`, which supports generators.\n",
      "  classifier.fit_generator(training_set,\n"
     ]
    },
    {
     "name": "stdout",
     "output_type": "stream",
     "text": [
      "20/20 [==============================] - ETA: 0s - batch: 9.5000 - size: 5.9500 - loss: 2.9343 - accuracy: 0.0756"
     ]
    },
    {
     "name": "stderr",
     "output_type": "stream",
     "text": [
      "C:\\Users\\goura\\AppData\\Roaming\\Python\\Python39\\site-packages\\keras\\engine\\training_v1.py:2045: UserWarning: `Model.state_updates` will be removed in a future version. This property should not be used in TensorFlow 2.0, as `updates` are applied automatically.\n",
      "  updates = self.state_updates\n"
     ]
    },
    {
     "name": "stdout",
     "output_type": "stream",
     "text": [
      "20/20 [==============================] - 2s 104ms/step - batch: 9.5000 - size: 5.9500 - loss: 2.9345 - accuracy: 0.0756 - val_loss: 2.3037 - val_accuracy: 0.1346\n",
      "Epoch 2/50\n",
      "20/20 [==============================] - 2s 90ms/step - batch: 9.5000 - size: 5.9500 - loss: 2.2891 - accuracy: 0.1597 - val_loss: 2.2567 - val_accuracy: 0.0962\n",
      "Epoch 3/50\n",
      "20/20 [==============================] - 2s 86ms/step - batch: 9.5000 - size: 5.9500 - loss: 2.2581 - accuracy: 0.1176 - val_loss: 2.2049 - val_accuracy: 0.0962\n",
      "Epoch 4/50\n",
      "20/20 [==============================] - 2s 86ms/step - batch: 9.5000 - size: 6.0000 - loss: 2.2271 - accuracy: 0.1500 - val_loss: 2.1670 - val_accuracy: 0.3462\n",
      "Epoch 5/50\n",
      "20/20 [==============================] - 2s 86ms/step - batch: 9.5000 - size: 5.9500 - loss: 2.0943 - accuracy: 0.1429 - val_loss: 2.0359 - val_accuracy: 0.2500\n",
      "Epoch 6/50\n",
      "20/20 [==============================] - 2s 89ms/step - batch: 9.5000 - size: 5.9500 - loss: 1.9325 - accuracy: 0.2689 - val_loss: 1.6627 - val_accuracy: 0.4231\n",
      "Epoch 7/50\n",
      "20/20 [==============================] - 2s 93ms/step - batch: 9.5000 - size: 5.9500 - loss: 1.6956 - accuracy: 0.3782 - val_loss: 1.9883 - val_accuracy: 0.2308\n",
      "Epoch 8/50\n",
      "20/20 [==============================] - 3s 130ms/step - batch: 9.5000 - size: 5.9500 - loss: 1.9611 - accuracy: 0.2857 - val_loss: 1.7684 - val_accuracy: 0.3077\n",
      "Epoch 9/50\n",
      "20/20 [==============================] - 2s 92ms/step - batch: 9.5000 - size: 6.0000 - loss: 1.6409 - accuracy: 0.4417 - val_loss: 1.6483 - val_accuracy: 0.4423\n",
      "Epoch 10/50\n",
      "20/20 [==============================] - 2s 91ms/step - batch: 9.5000 - size: 5.9500 - loss: 1.4126 - accuracy: 0.5378 - val_loss: 1.5765 - val_accuracy: 0.5000\n",
      "Epoch 11/50\n",
      "20/20 [==============================] - 2s 91ms/step - batch: 9.5000 - size: 5.9500 - loss: 1.1044 - accuracy: 0.6639 - val_loss: 2.4677 - val_accuracy: 0.4038\n",
      "Epoch 12/50\n",
      "20/20 [==============================] - 2s 90ms/step - batch: 9.5000 - size: 5.9500 - loss: 1.1126 - accuracy: 0.6387 - val_loss: 1.8592 - val_accuracy: 0.5000\n",
      "Epoch 13/50\n",
      "20/20 [==============================] - 2s 86ms/step - batch: 9.5000 - size: 5.9500 - loss: 1.0295 - accuracy: 0.7059 - val_loss: 2.1921 - val_accuracy: 0.4423\n",
      "Epoch 14/50\n",
      "20/20 [==============================] - 2s 91ms/step - batch: 9.5000 - size: 6.0000 - loss: 0.7805 - accuracy: 0.7667 - val_loss: 2.4199 - val_accuracy: 0.4423\n",
      "Epoch 15/50\n",
      "20/20 [==============================] - 2s 90ms/step - batch: 9.5000 - size: 5.9500 - loss: 0.8753 - accuracy: 0.6975 - val_loss: 1.8920 - val_accuracy: 0.5769\n",
      "Epoch 16/50\n",
      "20/20 [==============================] - 2s 88ms/step - batch: 9.5000 - size: 5.9000 - loss: 0.5586 - accuracy: 0.7966 - val_loss: 2.9972 - val_accuracy: 0.4808\n",
      "Epoch 17/50\n",
      "20/20 [==============================] - 2s 94ms/step - batch: 9.5000 - size: 5.9500 - loss: 0.7290 - accuracy: 0.7647 - val_loss: 1.7398 - val_accuracy: 0.5385\n",
      "Epoch 18/50\n",
      "20/20 [==============================] - 2s 93ms/step - batch: 9.5000 - size: 6.0000 - loss: 0.6995 - accuracy: 0.7833 - val_loss: 2.9365 - val_accuracy: 0.4615\n",
      "Epoch 19/50\n",
      "20/20 [==============================] - 2s 87ms/step - batch: 9.5000 - size: 5.9500 - loss: 0.5346 - accuracy: 0.8319 - val_loss: 2.5589 - val_accuracy: 0.5000\n",
      "Epoch 20/50\n",
      "20/20 [==============================] - 2s 90ms/step - batch: 9.5000 - size: 5.9500 - loss: 0.5133 - accuracy: 0.8319 - val_loss: 2.4412 - val_accuracy: 0.5192\n",
      "Epoch 21/50\n",
      "20/20 [==============================] - 2s 93ms/step - batch: 9.5000 - size: 6.0000 - loss: 0.3445 - accuracy: 0.8833 - val_loss: 3.7304 - val_accuracy: 0.4615\n",
      "Epoch 22/50\n",
      "20/20 [==============================] - 2s 94ms/step - batch: 9.5000 - size: 5.9500 - loss: 0.7126 - accuracy: 0.7395 - val_loss: 2.5734 - val_accuracy: 0.4808\n",
      "Epoch 23/50\n",
      "20/20 [==============================] - 2s 92ms/step - batch: 9.5000 - size: 5.9500 - loss: 0.6702 - accuracy: 0.7983 - val_loss: 1.6222 - val_accuracy: 0.6154\n",
      "Epoch 24/50\n",
      "20/20 [==============================] - 2s 92ms/step - batch: 9.5000 - size: 5.9500 - loss: 0.4055 - accuracy: 0.8739 - val_loss: 2.6951 - val_accuracy: 0.5962\n",
      "Epoch 25/50\n",
      "20/20 [==============================] - 2s 87ms/step - batch: 9.5000 - size: 5.9500 - loss: 0.3142 - accuracy: 0.9076 - val_loss: 1.8970 - val_accuracy: 0.6538\n",
      "Epoch 26/50\n",
      "20/20 [==============================] - 2s 97ms/step - batch: 9.5000 - size: 5.9500 - loss: 0.2415 - accuracy: 0.9496 - val_loss: 2.7422 - val_accuracy: 0.5192\n",
      "Epoch 27/50\n",
      "20/20 [==============================] - 2s 90ms/step - batch: 9.5000 - size: 5.9500 - loss: 0.2900 - accuracy: 0.8739 - val_loss: 3.6491 - val_accuracy: 0.4423\n",
      "Epoch 28/50\n",
      "20/20 [==============================] - 2s 96ms/step - batch: 9.5000 - size: 6.0000 - loss: 0.1120 - accuracy: 0.9833 - val_loss: 2.3103 - val_accuracy: 0.6538\n",
      "Epoch 29/50\n",
      "20/20 [==============================] - 2s 93ms/step - batch: 9.5000 - size: 5.9000 - loss: 0.1507 - accuracy: 0.9492 - val_loss: 2.9039 - val_accuracy: 0.5769\n",
      "Epoch 30/50\n",
      "20/20 [==============================] - 2s 94ms/step - batch: 9.5000 - size: 6.0000 - loss: 0.1880 - accuracy: 0.9500 - val_loss: 2.6194 - val_accuracy: 0.6154\n",
      "Epoch 31/50\n",
      "20/20 [==============================] - 2s 87ms/step - batch: 9.5000 - size: 5.9500 - loss: 0.2071 - accuracy: 0.9160 - val_loss: 2.5493 - val_accuracy: 0.5769\n",
      "Epoch 32/50\n",
      "20/20 [==============================] - 2s 98ms/step - batch: 9.5000 - size: 6.0000 - loss: 0.2381 - accuracy: 0.9083 - val_loss: 3.6110 - val_accuracy: 0.5192\n",
      "Epoch 33/50\n",
      "20/20 [==============================] - 2s 103ms/step - batch: 9.5000 - size: 5.9000 - loss: 0.3055 - accuracy: 0.8983 - val_loss: 2.5274 - val_accuracy: 0.6346\n",
      "Epoch 34/50\n",
      "20/20 [==============================] - 2s 100ms/step - batch: 9.5000 - size: 5.9500 - loss: 0.1524 - accuracy: 0.9412 - val_loss: 2.7660 - val_accuracy: 0.5385\n",
      "Epoch 35/50\n",
      "20/20 [==============================] - 2s 96ms/step - batch: 9.5000 - size: 6.0000 - loss: 0.1431 - accuracy: 0.9417 - val_loss: 3.3732 - val_accuracy: 0.5769\n",
      "Epoch 36/50\n",
      "20/20 [==============================] - 2s 94ms/step - batch: 9.5000 - size: 5.9500 - loss: 0.2139 - accuracy: 0.9160 - val_loss: 2.8926 - val_accuracy: 0.5769\n",
      "Epoch 37/50\n",
      "20/20 [==============================] - 2s 86ms/step - batch: 9.5000 - size: 5.9500 - loss: 0.4394 - accuracy: 0.8487 - val_loss: 3.0276 - val_accuracy: 0.5192\n",
      "Epoch 38/50\n",
      "20/20 [==============================] - 2s 96ms/step - batch: 9.5000 - size: 6.0000 - loss: 0.3076 - accuracy: 0.8917 - val_loss: 2.8840 - val_accuracy: 0.5192\n",
      "Epoch 39/50\n",
      "20/20 [==============================] - 2s 96ms/step - batch: 9.5000 - size: 5.9500 - loss: 0.1521 - accuracy: 0.9664 - val_loss: 3.2739 - val_accuracy: 0.5769\n",
      "Epoch 40/50\n",
      "20/20 [==============================] - 2s 92ms/step - batch: 9.5000 - size: 5.9000 - loss: 0.1455 - accuracy: 0.9492 - val_loss: 3.6726 - val_accuracy: 0.5385\n",
      "Epoch 41/50\n",
      "20/20 [==============================] - 2s 94ms/step - batch: 9.5000 - size: 6.0000 - loss: 0.1312 - accuracy: 0.9583 - val_loss: 3.5407 - val_accuracy: 0.6154\n",
      "Epoch 42/50\n",
      "20/20 [==============================] - 2s 92ms/step - batch: 9.5000 - size: 5.9500 - loss: 0.2769 - accuracy: 0.9076 - val_loss: 3.4852 - val_accuracy: 0.5000\n",
      "Epoch 43/50\n",
      "20/20 [==============================] - 2s 89ms/step - batch: 9.5000 - size: 5.9500 - loss: 0.1490 - accuracy: 0.9664 - val_loss: 3.6585 - val_accuracy: 0.5385\n",
      "Epoch 44/50\n",
      "20/20 [==============================] - 2s 100ms/step - batch: 9.5000 - size: 5.9500 - loss: 0.1018 - accuracy: 0.9748 - val_loss: 3.8765 - val_accuracy: 0.6346\n",
      "Epoch 45/50\n",
      "20/20 [==============================] - 2s 96ms/step - batch: 9.5000 - size: 5.9500 - loss: 0.0536 - accuracy: 0.9832 - val_loss: 3.7782 - val_accuracy: 0.5769\n",
      "Epoch 46/50\n",
      "20/20 [==============================] - 2s 95ms/step - batch: 9.5000 - size: 6.0000 - loss: 0.0848 - accuracy: 0.9667 - val_loss: 4.0254 - val_accuracy: 0.5962\n",
      "Epoch 47/50\n",
      "20/20 [==============================] - 2s 95ms/step - batch: 9.5000 - size: 5.9500 - loss: 0.0478 - accuracy: 0.9916 - val_loss: 4.5995 - val_accuracy: 0.5962\n",
      "Epoch 48/50\n"
     ]
    },
    {
     "name": "stdout",
     "output_type": "stream",
     "text": [
      "20/20 [==============================] - 2s 91ms/step - batch: 9.5000 - size: 5.9500 - loss: 0.1459 - accuracy: 0.9328 - val_loss: 3.7554 - val_accuracy: 0.5385\n",
      "Epoch 49/50\n",
      "20/20 [==============================] - 2s 85ms/step - batch: 9.5000 - size: 5.9500 - loss: 0.1543 - accuracy: 0.9580 - val_loss: 3.7962 - val_accuracy: 0.6346\n",
      "Epoch 50/50\n",
      "20/20 [==============================] - 2s 96ms/step - batch: 9.5000 - size: 6.0000 - loss: 0.1578 - accuracy: 0.9417 - val_loss: 3.2700 - val_accuracy: 0.5962\n"
     ]
    },
    {
     "data": {
      "text/plain": [
       "<keras.callbacks.History at 0x1e3f8dc18b0>"
      ]
     },
     "execution_count": 5,
     "metadata": {},
     "output_type": "execute_result"
    }
   ],
   "source": [
    "classifier.fit_generator(training_set,\n",
    "                         steps_per_epoch = 20,\n",
    "                         epochs = 50,\n",
    "                         validation_data=valid_set\n",
    "\n",
    "                         )"
   ]
  },
  {
   "cell_type": "code",
   "execution_count": 6,
   "id": "18cd4443",
   "metadata": {},
   "outputs": [
    {
     "name": "stdout",
     "output_type": "stream",
     "text": [
      "Saved model to disk\n"
     ]
    }
   ],
   "source": [
    "classifier_json=classifier.to_json()\n",
    "with open(\"model1.json\", \"w\") as json_file:\n",
    "    json_file.write(classifier_json)\n",
    "# serialize weights to HDF5\n",
    "    classifier.save_weights(\"my_model_weights.h5\")\n",
    "    classifier.save(\"model.h5\")\n",
    "    print(\"Saved model to disk\")\n"
   ]
  },
  {
   "cell_type": "code",
   "execution_count": null,
   "id": "30f980b6",
   "metadata": {},
   "outputs": [],
   "source": []
  }
 ],
 "metadata": {
  "kernelspec": {
   "display_name": "Python 3 (ipykernel)",
   "language": "python",
   "name": "python3"
  },
  "language_info": {
   "codemirror_mode": {
    "name": "ipython",
    "version": 3
   },
   "file_extension": ".py",
   "mimetype": "text/x-python",
   "name": "python",
   "nbconvert_exporter": "python",
   "pygments_lexer": "ipython3",
   "version": "3.9.12"
  }
 },
 "nbformat": 4,
 "nbformat_minor": 5
}
